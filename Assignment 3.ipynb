{
 "cells": [
  {
   "cell_type": "code",
   "execution_count": 1,
   "metadata": {},
   "outputs": [
    {
     "name": "stdout",
     "output_type": "stream",
     "text": [
      "Enter the first num30\n",
      "Enter the second num40\n",
      "input are not equal\n"
     ]
    }
   ],
   "source": [
    "a=int(input('Enter the first num'))\n",
    "b=int(input('Enter the second num'))\n",
    "if a==b:\n",
    "    print(\"input are equal\")\n",
    "else:\n",
    "    print(\"input are not equal\")"
   ]
  },
  {
   "cell_type": "code",
   "execution_count": 2,
   "metadata": {},
   "outputs": [
    {
     "name": "stdout",
     "output_type": "stream",
     "text": [
      "Enter the first num10\n",
      "Enter the second num20\n",
      "Enter the third num30\n",
      "All are different\n"
     ]
    }
   ],
   "source": [
    "a=int(input('Enter the first num'))\n",
    "b=int(input('Enter the second num'))\n",
    "c=int(input('Enter the third num'))\n",
    "if((a==b)and(b==c)and(c==a)):\n",
    "    print(\"All are equal\")\n",
    "elif((a==b)or(b==c)or(c==a)):\n",
    "    print(\"Two num are equal\")\n",
    "else:\n",
    "    print(\"All are different\")"
   ]
  },
  {
   "cell_type": "code",
   "execution_count": 13,
   "metadata": {},
   "outputs": [
    {
     "name": "stdout",
     "output_type": "stream",
     "text": [
      "Enter the first num10\n",
      "Enter the second num20\n",
      "Enter the third num5\n",
      "largest num\n"
     ]
    }
   ],
   "source": [
    "a=int(input('Enter the first num'))\n",
    "b=int(input('Enter the second num'))\n",
    "c=int(input('Enter the third num'))\n",
    "if(a>=b)and(a>=c):\n",
    "    largest=a\n",
    "elif(b>=a)and(b>=c):\n",
    "    largest=b\n",
    "else:\n",
    "    largest=c\n",
    "print(\"largest num\")"
   ]
  },
  {
   "cell_type": "code",
   "execution_count": 8,
   "metadata": {},
   "outputs": [
    {
     "name": "stdout",
     "output_type": "stream",
     "text": [
      "Enter the value a10\n",
      "Enter the value b 15\n",
      "The sum of a and b is greater than 5\n"
     ]
    }
   ],
   "source": [
    "a=int(input('Enter the value a'))\n",
    "b=int(input('Enter the value b'))\n",
    "if a+b>5:\n",
    "    print('The sum of a and b is greater than 5')\n",
    "elif a+b<5:\n",
    "    print('The sum of a and b is lessthan 5')\n",
    "else:\n",
    "    print('The sum of a and b is equal to 5')"
   ]
  },
  {
   "cell_type": "code",
   "execution_count": 11,
   "metadata": {},
   "outputs": [
    {
     "name": "stdout",
     "output_type": "stream",
     "text": [
      "Enter x45\n",
      "The student is passed in exam\n"
     ]
    }
   ],
   "source": [
    "x=int(input('Enter x'))\n",
    "if x>=35:\n",
    "    print('The student is passed in exam')\n",
    "else:\n",
    "    print('The student is failed in exam')"
   ]
  },
  {
   "cell_type": "code",
   "execution_count": null,
   "metadata": {},
   "outputs": [],
   "source": []
  }
 ],
 "metadata": {
  "kernelspec": {
   "display_name": "Python 3",
   "language": "python",
   "name": "python3"
  },
  "language_info": {
   "codemirror_mode": {
    "name": "ipython",
    "version": 3
   },
   "file_extension": ".py",
   "mimetype": "text/x-python",
   "name": "python",
   "nbconvert_exporter": "python",
   "pygments_lexer": "ipython3",
   "version": "3.8.3"
  }
 },
 "nbformat": 4,
 "nbformat_minor": 4
}
